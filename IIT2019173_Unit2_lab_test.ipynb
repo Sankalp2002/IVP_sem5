{
 "cells": [
  {
   "cell_type": "code",
   "execution_count": 1,
   "id": "e96ddb52-95ba-4898-bd88-f27619dc4c5e",
   "metadata": {},
   "outputs": [],
   "source": [
    "import cv2\n",
    "import numpy as np\n",
    "import matplotlib.pyplot as plt"
   ]
  },
  {
   "cell_type": "code",
   "execution_count": 26,
   "id": "4cb0c169-26c8-487d-8e24-0b698ac8369a",
   "metadata": {},
   "outputs": [
    {
     "data": {
      "text/plain": [
       "13"
      ]
     },
     "execution_count": 26,
     "metadata": {},
     "output_type": "execute_result"
    }
   ],
   "source": [
    "loc=\"lena2.jpeg\"\n",
    "img=cv2.imread(loc)\n",
    "size=img.shape\n",
    "noise = 5*np.random.randn(size[0],size[1],size[2])+20\n",
    "for i in range(size[0]):\n",
    "    for j in range(size[1]):\n",
    "        for k in range(size[2]):\n",
    "            if img[i][j][k]+noise[i][j][k]>255:\n",
    "                img[i][j][k]=255\n",
    "            else:\n",
    "                img[i][j][k]+=noise[i][j][k]\n",
    "cv2.imshow('input',img)\n",
    "cv2.waitKey(0)\n",
    "npimg=img\n",
    "newimg = np.zeros((size[0]+4,size[1]+4,3), dtype=np.uint8)\n",
    "newimg[2:size[0]+2,2:size[1]+2]=npimg\n",
    "med5=np.full((5,5,3),1, dtype=np.single)\n",
    "for i in range(2,size[0]+2):\n",
    "    for j in range(2,size[1]+2):\n",
    "        x=newimg[i-2:i+3,j-2:j+3]\n",
    "        x=np.multiply(x,med5)\n",
    "        for k in range(3):\n",
    "            y=np.full((5,5),0,dtype=np.single)\n",
    "            for p in range(5):\n",
    "                for q in range(5):\n",
    "                    y[p][q]=x[p][q][k]\n",
    "            s=np.median(y)\n",
    "            npimg[i-2][j-2][k]=s\n",
    "cv2.imshow('output',npimg)\n",
    "cv2.waitKey(0)"
   ]
  },
  {
   "cell_type": "code",
   "execution_count": 7,
   "id": "1422831e-c53b-444f-ae7d-648fb105cc79",
   "metadata": {},
   "outputs": [
    {
     "data": {
      "text/plain": [
       "<matplotlib.image.AxesImage at 0x1876272a160>"
      ]
     },
     "execution_count": 7,
     "metadata": {},
     "output_type": "execute_result"
    }
   ],
   "source": [
    "loc=\"bright2.jpeg\"\n",
    "img=cv2.imread(loc)\n",
    "size=img.shape\n",
    "size\n",
    "image_r, image_g, image_b = img[:,:,0], img[:,:,1], img[:,:,2]\n",
    "fft_r = np.fft.fft(image_r)\n",
    "fft_g = np.fft.fft(image_g)\n",
    "fft_b = np.fft.fft(image_b)\n",
    "#img[:,:,0], img[:,:,1], img[:,:,2]=fft_r,fft_g,fft_b\n",
    "plt.figure('plot')\n",
    "plt.imshow(np.abs(fft_b))"
   ]
  }
 ],
 "metadata": {
  "kernelspec": {
   "display_name": "IVP",
   "language": "python",
   "name": "ivp_kernel"
  },
  "language_info": {
   "codemirror_mode": {
    "name": "ipython",
    "version": 3
   },
   "file_extension": ".py",
   "mimetype": "text/x-python",
   "name": "python",
   "nbconvert_exporter": "python",
   "pygments_lexer": "ipython3",
   "version": "3.8.11"
  }
 },
 "nbformat": 4,
 "nbformat_minor": 5
}
