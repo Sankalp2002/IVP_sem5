{
 "cells": [
  {
   "cell_type": "code",
   "execution_count": 3,
   "id": "f315888c",
   "metadata": {},
   "outputs": [
    {
     "name": "stdout",
     "output_type": "stream",
     "text": [
      "Collecting package metadata (current_repodata.json): ...working... done\n",
      "Solving environment: ...working... done\n",
      "\n",
      "# All requested packages already installed.\n",
      "\n"
     ]
    },
    {
     "ename": "ImportError",
     "evalue": "DLL load failed while importing cv2: The specified module could not be found.",
     "output_type": "error",
     "traceback": [
      "\u001b[1;31m---------------------------------------------------------------------------\u001b[0m",
      "\u001b[1;31mImportError\u001b[0m                               Traceback (most recent call last)",
      "\u001b[1;32m~\\AppData\\Local\\Temp/ipykernel_7828/4072385797.py\u001b[0m in \u001b[0;36m<module>\u001b[1;34m\u001b[0m\n\u001b[0;32m      1\u001b[0m \u001b[1;32mimport\u001b[0m \u001b[0msys\u001b[0m\u001b[1;33m\u001b[0m\u001b[1;33m\u001b[0m\u001b[0m\n\u001b[0;32m      2\u001b[0m \u001b[0mget_ipython\u001b[0m\u001b[1;33m(\u001b[0m\u001b[1;33m)\u001b[0m\u001b[1;33m.\u001b[0m\u001b[0msystem\u001b[0m\u001b[1;33m(\u001b[0m\u001b[1;34m'conda install --yes --prefix {sys.prefix} opencv'\u001b[0m\u001b[1;33m)\u001b[0m\u001b[1;33m\u001b[0m\u001b[1;33m\u001b[0m\u001b[0m\n\u001b[1;32m----> 3\u001b[1;33m \u001b[1;32mimport\u001b[0m \u001b[0mcv2\u001b[0m\u001b[1;33m\u001b[0m\u001b[1;33m\u001b[0m\u001b[0m\n\u001b[0m\u001b[0;32m      4\u001b[0m \u001b[1;32mimport\u001b[0m \u001b[0mnumpy\u001b[0m \u001b[1;32mas\u001b[0m \u001b[0mnp\u001b[0m\u001b[1;33m\u001b[0m\u001b[1;33m\u001b[0m\u001b[0m\n\u001b[0;32m      5\u001b[0m \u001b[0mimage\u001b[0m \u001b[1;33m=\u001b[0m \u001b[0mcv2\u001b[0m\u001b[1;33m.\u001b[0m\u001b[0mimread\u001b[0m\u001b[1;33m(\u001b[0m\u001b[1;34m\"hist_equal2.jpg\"\u001b[0m\u001b[1;33m)\u001b[0m\u001b[1;33m\u001b[0m\u001b[1;33m\u001b[0m\u001b[0m\n",
      "\u001b[1;31mImportError\u001b[0m: DLL load failed while importing cv2: The specified module could not be found."
     ]
    }
   ],
   "source": [
    "import sys\n",
    "!conda install --yes --prefix {sys.prefix} opencv\n",
    "import cv2\n",
    "import numpy as np\n",
    "image = cv2.imread(\"hist_equal2.jpg\")\n",
    "gray_image = cv2.cvtColor(image, cv2.COLOR_BGR2GRAY)\n",
    "img1 = gray_image\n",
    "\n",
    "img=gray_image\n",
    "\n",
    "\n",
    "gray_level=np.arange(0,256)\n",
    "\n",
    "Nk=np.zeros(256)\n",
    "for i in img:\n",
    "    for j in i:\n",
    "        Nk[j]=Nk[j]+1\n",
    "\n",
    "\n",
    "NPixels=Nk.sum()\n",
    "\n",
    "\n",
    "pdf=np.zeros(256)\n",
    "for i in range(256):\n",
    "    pdf[i]=Nk[i]/NPixels\n",
    "\n",
    "\n",
    "cdf=np.zeros(256)\n",
    "cdf[0]=pdf[0]\n",
    "for i in range(1,256):\n",
    "    cdf[i]=cdf[i-1]+pdf[i]\n",
    "\n",
    "\n",
    "hel=np.zeros(256)\n",
    "for i in range(256):\n",
    "    hel[i]=round(cdf[i]*255)\n",
    "\n",
    "\n",
    "equalized_img=np.zeros((img.shape[0],img.shape[1]))\n",
    "for i in range(equalized_img.shape[0]):\n",
    "    for j in range(equalized_img.shape[1]):\n",
    "        equalized_img[i,j]=hel[img[i,j]]\n",
    "\n",
    "\n",
    "cv2.imshow('image',equalized_img)\n",
    "new_img = cv2.imread(\"img.png\")\n",
    "cv2.waitKey(0) \n",
    "  \n",
    "#closing all open windows \n",
    "cv2.destroyAllWindows() "
   ]
  }
 ],
 "metadata": {
  "kernelspec": {
   "display_name": "IVP",
   "language": "python",
   "name": "ivp_kernel"
  },
  "language_info": {
   "codemirror_mode": {
    "name": "ipython",
    "version": 3
   },
   "file_extension": ".py",
   "mimetype": "text/x-python",
   "name": "python",
   "nbconvert_exporter": "python",
   "pygments_lexer": "ipython3",
   "version": "3.8.11"
  }
 },
 "nbformat": 4,
 "nbformat_minor": 5
}
