{
 "cells": [
  {
   "cell_type": "markdown",
   "id": "941b942d-3a61-4028-aaa1-ec1197cb5de6",
   "metadata": {},
   "source": [
    "# IIT2019173"
   ]
  },
  {
   "cell_type": "code",
   "execution_count": 11,
   "id": "c72fd345-6736-4b56-be41-1507418306c0",
   "metadata": {},
   "outputs": [],
   "source": [
    "import os\n",
    "import cv2\n",
    "import numpy as np\n",
    "from PIL import Image \n",
    "import matplotlib.pyplot as plt\n",
    "import matplotlib\n",
    "from scipy import misc\n",
    "import math\n",
    "from numpy import r_\n",
    "from skimage import io\n",
    "from math import cos"
   ]
  },
  {
   "cell_type": "markdown",
   "id": "7d7d9d1d-3ef1-4b6d-9130-f1e4cb185830",
   "metadata": {},
   "source": [
    "## Q1- Run length encoding"
   ]
  },
  {
   "cell_type": "code",
   "execution_count": 12,
   "id": "6d0e1f9d-59a6-42a9-b48e-375ee0421e49",
   "metadata": {},
   "outputs": [
    {
     "data": {
      "text/plain": [
       "[[10, 4], [9, 2], [4, 4], [0, 5], [1, 5]]"
      ]
     },
     "execution_count": 12,
     "metadata": {},
     "output_type": "execute_result"
    }
   ],
   "source": [
    "def encode(message):\n",
    "    encoded=[]\n",
    "    i = 0\n",
    "    while (i <= len(message)-1):\n",
    "        count = 1\n",
    "        ch = message[i]\n",
    "        j = i\n",
    "        while (j < len(message)-1): \n",
    "            if (message[j] == message[j + 1]): \n",
    "                count = count + 1\n",
    "                j = j + 1\n",
    "            else: \n",
    "                break\n",
    "        encoded.append([ch,count])\n",
    "        i = j + 1\n",
    "    return encoded\n",
    "A = [10 ,10 ,10 ,10 ,9 ,9 ,4 ,4 ,4 ,4 ,0 ,0 ,0 ,0 ,0 ,1 ,1 ,1 ,1 ,1]\n",
    "encode(A)"
   ]
  },
  {
   "cell_type": "markdown",
   "id": "f9201c5e-f286-486f-a0ac-f5d8b3bd8e7a",
   "metadata": {},
   "source": [
    "## Q2- Compression using DCT coding"
   ]
  },
  {
   "cell_type": "code",
   "execution_count": 54,
   "id": "69ec93af-01ea-43b7-8a6b-930e0021981c",
   "metadata": {},
   "outputs": [
    {
     "data": {
      "text/plain": [
       "<matplotlib.image.AxesImage at 0x1b4b7ee4d60>"
      ]
     },
     "execution_count": 54,
     "metadata": {},
     "output_type": "execute_result"
    },
    {
     "data": {
      "image/png": "[encoded data removed]",
      "text/plain": [
       "<Figure size 432x288 with 1 Axes>"
      ]
     },
     "metadata": {
      "needs_background": "light"
     },
     "output_type": "display_data"
    }
   ],
   "source": [
    "imgGray = Image.open(\"heart.jpg\")\n",
    "plt.imshow(imgGray,cmap=plt.cm.gray)"
   ]
  },
  {
   "cell_type": "code",
   "execution_count": 55,
   "id": "9cdac661-976f-432a-b6c2-25c0aa81c49e",
   "metadata": {},
   "outputs": [
    {
     "name": "stdin",
     "output_type": "stream",
     "text": [
      "Window-Size for DCT:  5\n"
     ]
    },
    {
     "data": {
      "text/plain": [
       "array([[127, 127, 127, ..., 127, 127, 127],\n",
       "       [127, 127, 127, ..., 127, 127, 127],\n",
       "       [127, 127, 127, ..., 127, 127, 127],\n",
       "       ...,\n",
       "       [127, 127, 127, ..., 127, 127, 127],\n",
       "       [127, 127, 127, ..., 127, 127, 127],\n",
       "       [127, 127, 127, ..., 127, 127, 127]], dtype=int16)"
      ]
     },
     "execution_count": 55,
     "metadata": {},
     "output_type": "execute_result"
    }
   ],
   "source": [
    "windowSize = int(input(\"Window-Size for DCT: \"))\n",
    "sumd = 0 \n",
    "dctmatrix = np.zeros(np.shape(imgGray)) \n",
    "imgGray = np.asanyarray(imgGray) \n",
    "imgGray = imgGray.astype(np.int16) \n",
    "imgGray = imgGray-128 \n",
    "imgGray2 = np.zeros(np.shape(imgGray)) \n",
    "\n",
    "imgGray"
   ]
  },
  {
   "cell_type": "code",
   "execution_count": 56,
   "id": "7f4caf56-9b59-478b-8163-288b31821616",
   "metadata": {},
   "outputs": [],
   "source": [
    "def cosp(i,j,n): \n",
    "  op = 0\n",
    "  op = cos(((2*i)+1)*j*math.pi/(2*n))\n",
    "  return op"
   ]
  },
  {
   "cell_type": "code",
   "execution_count": 57,
   "id": "a7c47153-2792-41ec-9cf9-5dbae7a10bd5",
   "metadata": {},
   "outputs": [],
   "source": [
    "def convolveDCT(img,n,u,v,a,b):\n",
    "  sumd = 0\n",
    "  for x in r_[0:n]:\n",
    "    for y in r_[0:n]:\n",
    "      if x < imgGray.shape[0] - a and y < imgGray.shape[1] - b:\n",
    "        u = u%n\n",
    "        v = v%n\n",
    "        sumd += img[x+a,y+b]*cosp(x,u,n)*cosp(y,v,n)\n",
    " \n",
    "  if(u == 0):\n",
    "    sumd *= 1/math.sqrt(2) \n",
    "  else: \n",
    "    sumd *= 1\n",
    "  if(v == 0):\n",
    "    sumd *= 1/math.sqrt(2)\n",
    "  else:\n",
    "    sumd *= 1\n",
    "  sumd *= 1/math.sqrt(2*n)\n",
    "\n",
    "  return sumd"
   ]
  },
  {
   "cell_type": "code",
   "execution_count": 58,
   "id": "79f865b5-2bdb-4256-949c-ab1a6e7f945c",
   "metadata": {},
   "outputs": [
    {
     "data": {
      "text/plain": [
       "array([[502.,   0.,   0., ...,   0.,   0.,  -0.],\n",
       "       [  0.,  -0.,  -0., ...,  -0.,   0.,   0.],\n",
       "       [  0.,   0.,  -0., ...,  -0.,  -0.,   0.],\n",
       "       ...,\n",
       "       [  0.,   0.,  -0., ...,  -0.,  -0.,   0.],\n",
       "       [  0.,   0.,  -0., ...,  -0.,   0.,   0.],\n",
       "       [ -0.,  -0.,   0., ...,   0.,   0.,  -0.]])"
      ]
     },
     "execution_count": 58,
     "metadata": {},
     "output_type": "execute_result"
    }
   ],
   "source": [
    "from pylab import *\n",
    "for a in r_[0:np.shape(imgGray)[0]:windowSize]:\n",
    "  for b in r_[0:np.shape(imgGray)[1]:windowSize]:\n",
    "    for u in r_[a:a+windowSize]:\n",
    "      for v in r_[b:b+windowSize]:\n",
    "        if u < imgGray.shape[0] and v < imgGray.shape[1]:\n",
    "          dctmatrix[u,v] = convolveDCT(imgGray,windowSize,u,v,a,b)\n",
    "# DCT \n",
    "np.around(dctmatrix)"
   ]
  },
  {
   "cell_type": "code",
   "execution_count": 59,
   "id": "2b7be155-1f7b-4457-8ace-eefb19fdebf1",
   "metadata": {},
   "outputs": [
    {
     "data": {
      "text/plain": [
       "Text(0.5, 1.0, 'DCTs of the image')"
      ]
     },
     "execution_count": 59,
     "metadata": {},
     "output_type": "execute_result"
    },
    {
     "data": {
      "image/png": "[encoded data removed]",
      "text/plain": [
       "<Figure size 432x288 with 1 Axes>"
      ]
     },
     "metadata": {
      "needs_background": "light"
     },
     "output_type": "display_data"
    }
   ],
   "source": [
    "plt.figure()\n",
    "plt.imshow(dctmatrix,cmap='gray',vmax = np.max(dctmatrix)*0.01,vmin = 0)\n",
    "plt.title(\"DCTs of the image\")"
   ]
  },
  {
   "cell_type": "code",
   "execution_count": 60,
   "id": "024e69ab-0c68-44c0-930c-9ef0fe2178f6",
   "metadata": {},
   "outputs": [],
   "source": [
    "def convolveIDCT(dctmatrix,n,x,y,a,b): \n",
    "    sumd = 0\n",
    "    for u in r_[0:n]:\n",
    "    for v in r_[0:n]:\n",
    "      if x < imgGray.shape[0] - a and y < imgGray.shape[1] - b:\n",
    "        val1 = 1\n",
    "        val2 = 1\n",
    "        x = x%n\n",
    "        y = y%n\n",
    "        if(u == 0): \n",
    "          val1 = 1/math.sqrt(2)\n",
    "        if(v == 0):\n",
    "          val2 = 1/math.sqrt(2)\n",
    "        sumd += dctmatrix[u+a,v+b]*val1*val2*cosp(x,u,n)*cosp(y,v,n)\n",
    "   \n",
    "    sumd *= 2/n\n",
    "    return sumd"
   ]
  },
  {
   "cell_type": "code",
   "execution_count": 67,
   "id": "8048a763-67dd-4be9-b95b-1212651e3280",
   "metadata": {},
   "outputs": [
    {
     "data": {
      "image/png": "[encoded data removed]",
      "text/plain": [
       "<Figure size 432x288 with 1 Axes>"
      ]
     },
     "metadata": {
      "needs_background": "light"
     },
     "output_type": "display_data"
    }
   ],
   "source": [
    "for a in r_[0:np.shape(dctmatrix)[0]:windowSize]:\n",
    "    for b in r_[0:np.shape(dctmatrix)[1]:windowSize]:\n",
    "        for x in r_[a:a+windowSize]:\n",
    "            for y in r_[b:b+windowSize]:\n",
    "                if x < imgGray.shape[0] and y < imgGray.shape[1]:\n",
    "                    imgGray2[x,y] = convolveIDCT(dctmatrix,windowSize,x,y,a,b)\n",
    "\n",
    "imgGray2 = imgGray2 + 128\n",
    "\n",
    "plt.imshow(imgGray2, cmap=plt.cm.gray)\n",
    "plt.axis('off')\n",
    "plt.show()"
   ]
  }
 ],
 "metadata": {
  "kernelspec": {
   "display_name": "IVP",
   "language": "python",
   "name": "ivp_kernel"
  },
  "language_info": {
   "codemirror_mode": {
    "name": "ipython",
    "version": 3
   },
   "file_extension": ".py",
   "mimetype": "text/x-python",
   "name": "python",
   "nbconvert_exporter": "python",
   "pygments_lexer": "ipython3",
   "version": "3.8.11"
  }
 },
 "nbformat": 4,
 "nbformat_minor": 5
}
